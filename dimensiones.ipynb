{
  "nbformat": 4,
  "nbformat_minor": 0,
  "metadata": {
    "colab": {
      "provenance": [],
      "authorship_tag": "ABX9TyPSGOPxDjEbNW7qZxZ1odHs",
      "include_colab_link": true
    },
    "kernelspec": {
      "name": "python3",
      "display_name": "Python 3"
    },
    "language_info": {
      "name": "python"
    }
  },
  "cells": [
    {
      "cell_type": "markdown",
      "metadata": {
        "id": "view-in-github",
        "colab_type": "text"
      },
      "source": [
        "<a href=\"https://colab.research.google.com/github/yulissajimenez-10/file_curso_NUMPY/blob/main/dimensiones.ipynb\" target=\"_parent\"><img src=\"https://colab.research.google.com/assets/colab-badge.svg\" alt=\"Open In Colab\"/></a>"
      ]
    },
    {
      "cell_type": "code",
      "source": [
        "import numpy as np"
      ],
      "metadata": {
        "id": "dgkcn_jvLvZ1"
      },
      "execution_count": 4,
      "outputs": []
    },
    {
      "cell_type": "code",
      "source": [
        "#tipo de dimensiones\n"
      ],
      "metadata": {
        "id": "844YizAvL3Xl"
      },
      "execution_count": null,
      "outputs": []
    },
    {
      "cell_type": "code",
      "source": [
        "# ESCALAR : \n",
        "scalar = np.array(42)\n",
        "print(scalar) \n",
        "scalar.ndim "
      ],
      "metadata": {
        "colab": {
          "base_uri": "https://localhost:8080/"
        },
        "id": "7ukcvebkL7s1",
        "outputId": "82877022-abed-4243-829a-b0a9515958db"
      },
      "execution_count": 5,
      "outputs": [
        {
          "output_type": "stream",
          "name": "stdout",
          "text": [
            "42\n"
          ]
        },
        {
          "output_type": "execute_result",
          "data": {
            "text/plain": [
              "0"
            ]
          },
          "metadata": {},
          "execution_count": 5
        }
      ]
    },
    {
      "cell_type": "code",
      "source": [
        "#  VECTOR :\n",
        "vector = np.array([1, 2, 3])\n",
        "print(vector) \n",
        "vector.ndim \n"
      ],
      "metadata": {
        "colab": {
          "base_uri": "https://localhost:8080/"
        },
        "id": "8GN_hb3OMFzs",
        "outputId": "ac32a379-61f9-45ae-c25c-f43c92150ce3"
      },
      "execution_count": 6,
      "outputs": [
        {
          "output_type": "stream",
          "name": "stdout",
          "text": [
            "[1 2 3]\n"
          ]
        },
        {
          "output_type": "execute_result",
          "data": {
            "text/plain": [
              "1"
            ]
          },
          "metadata": {},
          "execution_count": 6
        }
      ]
    },
    {
      "cell_type": "code",
      "source": [
        "# MATRIZ : \n",
        "matriz = np.array([[1, 2, 3], [4, 5, 6]])\n",
        "print(matriz)\n",
        "matriz.ndim"
      ],
      "metadata": {
        "colab": {
          "base_uri": "https://localhost:8080/"
        },
        "id": "ZvLp0LOJMNmV",
        "outputId": "aba83001-117c-4083-e04b-85b4d4e954be"
      },
      "execution_count": 7,
      "outputs": [
        {
          "output_type": "stream",
          "name": "stdout",
          "text": [
            "[[1 2 3]\n",
            " [4 5 6]]\n"
          ]
        },
        {
          "output_type": "execute_result",
          "data": {
            "text/plain": [
              "2"
            ]
          },
          "metadata": {},
          "execution_count": 7
        }
      ]
    },
    {
      "cell_type": "code",
      "source": [
        "# TENSOR :\n",
        "tensor = np.array([[[1, 2, 3], [4, 5, 6], [7, 8, 9], [10, 11, 12]],[[13, 13, 15], [16, 17, 18], [19, 20, 21], [22, 23, 24]]])\n",
        "print(tensor)\n",
        "tensor.ndim"
      ],
      "metadata": {
        "colab": {
          "base_uri": "https://localhost:8080/"
        },
        "id": "1RSd42VfMVc8",
        "outputId": "54cefe58-7a4e-4116-fc5b-f995ee0d2e92"
      },
      "execution_count": 8,
      "outputs": [
        {
          "output_type": "stream",
          "name": "stdout",
          "text": [
            "[[[ 1  2  3]\n",
            "  [ 4  5  6]\n",
            "  [ 7  8  9]\n",
            "  [10 11 12]]\n",
            "\n",
            " [[13 13 15]\n",
            "  [16 17 18]\n",
            "  [19 20 21]\n",
            "  [22 23 24]]]\n"
          ]
        },
        {
          "output_type": "execute_result",
          "data": {
            "text/plain": [
              "3"
            ]
          },
          "metadata": {},
          "execution_count": 8
        }
      ]
    },
    {
      "cell_type": "code",
      "source": [],
      "metadata": {
        "id": "tBH7D8EcMhSt"
      },
      "execution_count": null,
      "outputs": []
    },
    {
      "cell_type": "code",
      "source": [
        "# AGREGAR O ELIMINAR DIMENSIONES"
      ],
      "metadata": {
        "id": "OGnNLDtaMhI1"
      },
      "execution_count": null,
      "outputs": []
    },
    {
      "cell_type": "code",
      "source": [
        "vector = np.array([1, 2, 3], ndmin = 10)\n",
        "print(vector) \n",
        "vector.ndim "
      ],
      "metadata": {
        "colab": {
          "base_uri": "https://localhost:8080/"
        },
        "id": "pc141l6AMlYN",
        "outputId": "79c3c08c-0ff9-475b-e28f-21a124039c24"
      },
      "execution_count": 9,
      "outputs": [
        {
          "output_type": "stream",
          "name": "stdout",
          "text": [
            "[[[[[[[[[[1 2 3]]]]]]]]]]\n"
          ]
        },
        {
          "output_type": "execute_result",
          "data": {
            "text/plain": [
              "10"
            ]
          },
          "metadata": {},
          "execution_count": 9
        }
      ]
    },
    {
      "cell_type": "code",
      "source": [
        "expand = np.expand_dims(np.array([1, 2, 3]), axis = 0)\n",
        "print(expand)\n",
        "expand.ndim "
      ],
      "metadata": {
        "colab": {
          "base_uri": "https://localhost:8080/"
        },
        "id": "JVD5mvtYMp-l",
        "outputId": "8a85e31b-adfa-4963-c377-e4b329813139"
      },
      "execution_count": 10,
      "outputs": [
        {
          "output_type": "stream",
          "name": "stdout",
          "text": [
            "[[1 2 3]]\n"
          ]
        },
        {
          "output_type": "execute_result",
          "data": {
            "text/plain": [
              "2"
            ]
          },
          "metadata": {},
          "execution_count": 10
        }
      ]
    },
    {
      "cell_type": "code",
      "source": [
        "print(vector, vector.ndim) \n",
        "vector_2 = np.squeeze(vector)\n",
        "print(vector_2, vector_2.ndim)"
      ],
      "metadata": {
        "colab": {
          "base_uri": "https://localhost:8080/"
        },
        "id": "ryrKWXunMzA1",
        "outputId": "9d2d02eb-00df-463a-b95a-fb131ee0e113"
      },
      "execution_count": 11,
      "outputs": [
        {
          "output_type": "stream",
          "name": "stdout",
          "text": [
            "[[[[[[[[[[1 2 3]]]]]]]]]] 10\n",
            "[1 2 3] 1\n"
          ]
        }
      ]
    },
    {
      "cell_type": "code",
      "source": [
        "# RETOS\n"
      ],
      "metadata": {
        "id": "iOwAFOjtM9uF"
      },
      "execution_count": null,
      "outputs": []
    },
    {
      "cell_type": "code",
      "source": [
        "# DEFINE UN TENSOR DE 5 DIMENSIONES"
      ],
      "metadata": {
        "id": "2SNM60uKM9eO"
      },
      "execution_count": null,
      "outputs": []
    },
    {
      "cell_type": "code",
      "source": [
        "tensor = np.array([[[[[1, 2, 3], [4, 5, 6], [7, 8, 9], [10, 11, 12]],[[13, 13, 15], [16, 17, 18], [19, 20, 21], [22, 23, 24]]],[[[1, 2, 3], [4, 5, 6], [7, 8, 9], [10, 11, 12]],[[13, 13, 15], [16, 17, 18], [19, 20, 21], [22, 23, 24]]]],[[[[1, 2, 3], [4, 5, 6], [7, 8, 9], [10, 11, 12]],[[13, 13, 15], [16, 17, 18], [19, 20, 21], [22, 23, 24]]],[[[1, 2, 3], [4, 5, 6], [7, 8, 9], [10, 11, 12]],[[13, 13, 15], [16, 17, 18], [19, 20, 21], [22, 23, 24]]]]])\n",
        "print(tensor)\n",
        "tensor.ndim"
      ],
      "metadata": {
        "colab": {
          "base_uri": "https://localhost:8080/"
        },
        "id": "9OKd1X8VMy5U",
        "outputId": "bae6839f-8f6d-4c0b-f891-04f4bb82bc14"
      },
      "execution_count": 14,
      "outputs": [
        {
          "output_type": "stream",
          "name": "stdout",
          "text": [
            "[[[[[ 1  2  3]\n",
            "    [ 4  5  6]\n",
            "    [ 7  8  9]\n",
            "    [10 11 12]]\n",
            "\n",
            "   [[13 13 15]\n",
            "    [16 17 18]\n",
            "    [19 20 21]\n",
            "    [22 23 24]]]\n",
            "\n",
            "\n",
            "  [[[ 1  2  3]\n",
            "    [ 4  5  6]\n",
            "    [ 7  8  9]\n",
            "    [10 11 12]]\n",
            "\n",
            "   [[13 13 15]\n",
            "    [16 17 18]\n",
            "    [19 20 21]\n",
            "    [22 23 24]]]]\n",
            "\n",
            "\n",
            "\n",
            " [[[[ 1  2  3]\n",
            "    [ 4  5  6]\n",
            "    [ 7  8  9]\n",
            "    [10 11 12]]\n",
            "\n",
            "   [[13 13 15]\n",
            "    [16 17 18]\n",
            "    [19 20 21]\n",
            "    [22 23 24]]]\n",
            "\n",
            "\n",
            "  [[[ 1  2  3]\n",
            "    [ 4  5  6]\n",
            "    [ 7  8  9]\n",
            "    [10 11 12]]\n",
            "\n",
            "   [[13 13 15]\n",
            "    [16 17 18]\n",
            "    [19 20 21]\n",
            "    [22 23 24]]]]]\n"
          ]
        },
        {
          "output_type": "execute_result",
          "data": {
            "text/plain": [
              "5"
            ]
          },
          "metadata": {},
          "execution_count": 14
        }
      ]
    },
    {
      "cell_type": "code",
      "source": [
        "vector = np.array([1, 2, 3], ndmin = 5)\n",
        "print(vector) \n",
        "vector.ndim "
      ],
      "metadata": {
        "colab": {
          "base_uri": "https://localhost:8080/"
        },
        "id": "sqwNqXnwNsIf",
        "outputId": "fd1e0d63-f436-4677-f336-cb8d537348de"
      },
      "execution_count": 15,
      "outputs": [
        {
          "output_type": "stream",
          "name": "stdout",
          "text": [
            "[[[[[1 2 3]]]]]\n"
          ]
        },
        {
          "output_type": "execute_result",
          "data": {
            "text/plain": [
              "5"
            ]
          },
          "metadata": {},
          "execution_count": 15
        }
      ]
    },
    {
      "cell_type": "code",
      "source": [],
      "metadata": {
        "id": "_hvCxX0FOEwd"
      },
      "execution_count": null,
      "outputs": []
    },
    {
      "cell_type": "code",
      "source": [
        "# LINK DE  WEB NUMPY https://numpy.org/doc/stable/reference/generated/numpy.ndarray.ndim.html"
      ],
      "metadata": {
        "id": "H0N1zfSdOEoO"
      },
      "execution_count": null,
      "outputs": []
    }
  ]
}