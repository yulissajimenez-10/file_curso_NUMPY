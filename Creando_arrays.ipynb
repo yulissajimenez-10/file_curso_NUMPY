{
  "nbformat": 4,
  "nbformat_minor": 0,
  "metadata": {
    "colab": {
      "provenance": [],
      "authorship_tag": "ABX9TyMR73rgzTrL24NACJZ+0gSz",
      "include_colab_link": true
    },
    "kernelspec": {
      "name": "python3",
      "display_name": "Python 3"
    },
    "language_info": {
      "name": "python"
    }
  },
  "cells": [
    {
      "cell_type": "markdown",
      "metadata": {
        "id": "view-in-github",
        "colab_type": "text"
      },
      "source": [
        "<a href=\"https://colab.research.google.com/github/yulissajimenez-10/file_curso_NUMPY/blob/main/Creando_arrays.ipynb\" target=\"_parent\"><img src=\"https://colab.research.google.com/assets/colab-badge.svg\" alt=\"Open In Colab\"/></a>"
      ]
    },
    {
      "cell_type": "code",
      "execution_count": 1,
      "metadata": {
        "id": "ooK7R5pAOk77"
      },
      "outputs": [],
      "source": [
        "import numpy as np"
      ]
    },
    {
      "cell_type": "code",
      "source": [
        "#en python\n",
        "list(range(0,10))"
      ],
      "metadata": {
        "colab": {
          "base_uri": "https://localhost:8080/"
        },
        "id": "Q0M6PtS6PK0G",
        "outputId": "146a8e33-b107-48be-b711-2bae724d2d5d"
      },
      "execution_count": 3,
      "outputs": [
        {
          "output_type": "execute_result",
          "data": {
            "text/plain": [
              "[0, 1, 2, 3, 4, 5, 6, 7, 8, 9]"
            ]
          },
          "metadata": {},
          "execution_count": 3
        }
      ]
    },
    {
      "cell_type": "code",
      "source": [
        "# en numpy \n",
        "\n",
        "np.arange(0,20) "
      ],
      "metadata": {
        "colab": {
          "base_uri": "https://localhost:8080/"
        },
        "id": "muGty_o2PJXO",
        "outputId": "fa92ae94-cc77-447f-daec-78aedf519389"
      },
      "execution_count": 4,
      "outputs": [
        {
          "output_type": "execute_result",
          "data": {
            "text/plain": [
              "array([ 0,  1,  2,  3,  4,  5,  6,  7,  8,  9, 10, 11, 12, 13, 14, 15, 16,\n",
              "       17, 18, 19])"
            ]
          },
          "metadata": {},
          "execution_count": 4
        }
      ]
    },
    {
      "cell_type": "code",
      "source": [
        "np.arange(0,20,2) \n",
        "\n",
        "# primer valor inicio\n",
        "# segundo valos stop\n",
        "# tercer valos step \n"
      ],
      "metadata": {
        "colab": {
          "base_uri": "https://localhost:8080/"
        },
        "id": "09_wvAsgPqlO",
        "outputId": "99baede2-4ed2-493d-d3d5-c12023619618"
      },
      "execution_count": 7,
      "outputs": [
        {
          "output_type": "execute_result",
          "data": {
            "text/plain": [
              "array([ 0,  2,  4,  6,  8, 10, 12, 14, 16, 18])"
            ]
          },
          "metadata": {},
          "execution_count": 7
        }
      ]
    },
    {
      "cell_type": "code",
      "source": [
        "np.zeros((10,5))\n",
        "#crea una matriz con los valores en cero"
      ],
      "metadata": {
        "colab": {
          "base_uri": "https://localhost:8080/"
        },
        "id": "5mStLtegP-lm",
        "outputId": "e7067491-51f1-4e4f-8596-fa6ec1e511aa"
      },
      "execution_count": 11,
      "outputs": [
        {
          "output_type": "execute_result",
          "data": {
            "text/plain": [
              "array([[0., 0., 0., 0., 0.],\n",
              "       [0., 0., 0., 0., 0.],\n",
              "       [0., 0., 0., 0., 0.],\n",
              "       [0., 0., 0., 0., 0.],\n",
              "       [0., 0., 0., 0., 0.],\n",
              "       [0., 0., 0., 0., 0.],\n",
              "       [0., 0., 0., 0., 0.],\n",
              "       [0., 0., 0., 0., 0.],\n",
              "       [0., 0., 0., 0., 0.],\n",
              "       [0., 0., 0., 0., 0.]])"
            ]
          },
          "metadata": {},
          "execution_count": 11
        }
      ]
    },
    {
      "cell_type": "code",
      "source": [
        "np.ones((10,5))"
      ],
      "metadata": {
        "colab": {
          "base_uri": "https://localhost:8080/"
        },
        "id": "YUxyHwFZQSl-",
        "outputId": "b141d174-0f53-4414-8d85-afab58516c7e"
      },
      "execution_count": 12,
      "outputs": [
        {
          "output_type": "execute_result",
          "data": {
            "text/plain": [
              "array([[1., 1., 1., 1., 1.],\n",
              "       [1., 1., 1., 1., 1.],\n",
              "       [1., 1., 1., 1., 1.],\n",
              "       [1., 1., 1., 1., 1.],\n",
              "       [1., 1., 1., 1., 1.],\n",
              "       [1., 1., 1., 1., 1.],\n",
              "       [1., 1., 1., 1., 1.],\n",
              "       [1., 1., 1., 1., 1.],\n",
              "       [1., 1., 1., 1., 1.],\n",
              "       [1., 1., 1., 1., 1.]])"
            ]
          },
          "metadata": {},
          "execution_count": 12
        }
      ]
    },
    {
      "cell_type": "code",
      "source": [
        "np.linspace(0,10,10)\n",
        "# primer valo inicio\n",
        "# segundo valor stop\n",
        "# tercer valor cantidad de valores que quiero que se genere"
      ],
      "metadata": {
        "colab": {
          "base_uri": "https://localhost:8080/"
        },
        "id": "gQPBTBQEQZx1",
        "outputId": "33ecb9c0-11e9-4348-badb-fff224431e55"
      },
      "execution_count": 14,
      "outputs": [
        {
          "output_type": "execute_result",
          "data": {
            "text/plain": [
              "array([ 0.        ,  1.11111111,  2.22222222,  3.33333333,  4.44444444,\n",
              "        5.55555556,  6.66666667,  7.77777778,  8.88888889, 10.        ])"
            ]
          },
          "metadata": {},
          "execution_count": 14
        }
      ]
    },
    {
      "cell_type": "code",
      "source": [
        "np.eye(4)\n",
        "#crea una matriz con la diagonal principal en 1 y el resto en cero"
      ],
      "metadata": {
        "colab": {
          "base_uri": "https://localhost:8080/"
        },
        "id": "H2kh5dBBQquH",
        "outputId": "6948c95b-f4e8-4d29-d8fb-2421d8cc49b4"
      },
      "execution_count": 15,
      "outputs": [
        {
          "output_type": "execute_result",
          "data": {
            "text/plain": [
              "array([[1., 0., 0., 0.],\n",
              "       [0., 1., 0., 0.],\n",
              "       [0., 0., 1., 0.],\n",
              "       [0., 0., 0., 1.]])"
            ]
          },
          "metadata": {},
          "execution_count": 15
        }
      ]
    },
    {
      "cell_type": "code",
      "source": [
        "np.random.rand(4)\n",
        "# genera un arreglo con valores aleatorios"
      ],
      "metadata": {
        "colab": {
          "base_uri": "https://localhost:8080/"
        },
        "id": "_Kp-GOCwRC5W",
        "outputId": "7912294d-96b6-4573-98e1-c1a6ab94656f"
      },
      "execution_count": 17,
      "outputs": [
        {
          "output_type": "execute_result",
          "data": {
            "text/plain": [
              "array([0.15731726, 0.09419953, 0.02721273, 0.39890816])"
            ]
          },
          "metadata": {},
          "execution_count": 17
        }
      ]
    },
    {
      "cell_type": "code",
      "source": [
        "np.random.rand(4,4)\n",
        "# genera un arreglo con valores aleatorios"
      ],
      "metadata": {
        "colab": {
          "base_uri": "https://localhost:8080/"
        },
        "id": "20maKZCYRClv",
        "outputId": "3fe64a64-ee91-4a48-93d6-352e76c31e25"
      },
      "execution_count": 18,
      "outputs": [
        {
          "output_type": "execute_result",
          "data": {
            "text/plain": [
              "array([[0.92860649, 0.45503073, 0.43347197, 0.77268954],\n",
              "       [0.27407576, 0.51997978, 0.0673911 , 0.75654984],\n",
              "       [0.15465747, 0.11204926, 0.89164626, 0.87195946],\n",
              "       [0.86776996, 0.79881815, 0.53247508, 0.04491749]])"
            ]
          },
          "metadata": {},
          "execution_count": 18
        }
      ]
    },
    {
      "cell_type": "code",
      "source": [
        "np.random.randint(1,15)\n",
        "#genera un numero aletario entre 1 al 15"
      ],
      "metadata": {
        "colab": {
          "base_uri": "https://localhost:8080/"
        },
        "id": "I-wTmQ92RS8u",
        "outputId": "e58c6bb9-7ddf-4b37-8f75-ac8378ac817c"
      },
      "execution_count": 20,
      "outputs": [
        {
          "output_type": "execute_result",
          "data": {
            "text/plain": [
              "5"
            ]
          },
          "metadata": {},
          "execution_count": 20
        }
      ]
    },
    {
      "cell_type": "code",
      "source": [
        "np.random.randint(1,100,(10,10))\n",
        "# en esto generamos una estructura de 10 * 10 con valores aleatorios enteros entre 1  al  100\n"
      ],
      "metadata": {
        "colab": {
          "base_uri": "https://localhost:8080/"
        },
        "id": "SFi8iDINRkjf",
        "outputId": "50521421-cf2b-4262-93cb-98b90d43fa90"
      },
      "execution_count": 22,
      "outputs": [
        {
          "output_type": "execute_result",
          "data": {
            "text/plain": [
              "array([[67, 95,  5, 90, 24, 44, 99, 38, 59, 11],\n",
              "       [63, 27, 52, 58, 33, 44, 47, 98, 31, 30],\n",
              "       [42, 89, 25, 37, 46, 23, 36,  1, 94, 53],\n",
              "       [89, 53, 99, 19, 75, 59, 80, 69, 60, 70],\n",
              "       [73, 86, 70, 85, 75, 21, 96, 71, 43, 89],\n",
              "       [99, 41, 40,  5, 63, 93, 94, 61,  8, 64],\n",
              "       [60, 71, 61, 86, 98, 66, 53, 27, 31, 89],\n",
              "       [26, 20, 94, 97, 23, 66, 70,  1, 29, 69],\n",
              "       [74, 57, 66, 94, 63, 33, 97, 59, 87, 86],\n",
              "       [ 2, 76, 56, 62, 95, 83, 70, 60, 80, 48]])"
            ]
          },
          "metadata": {},
          "execution_count": 22
        }
      ]
    },
    {
      "cell_type": "code",
      "source": [],
      "metadata": {
        "id": "IE83P8oUR_-W"
      },
      "execution_count": null,
      "outputs": []
    }
  ]
}